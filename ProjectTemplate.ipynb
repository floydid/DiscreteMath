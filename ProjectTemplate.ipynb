{
  "nbformat": 4,
  "nbformat_minor": 0,
  "metadata": {
    "colab": {
      "name": "Untitled0.ipynb",
      "provenance": [],
      "include_colab_link": true
    },
    "kernelspec": {
      "name": "python3",
      "display_name": "Python 3"
    }
  },
  "cells": [
    {
      "cell_type": "markdown",
      "metadata": {
        "id": "view-in-github",
        "colab_type": "text"
      },
      "source": [
        "<a href=\"https://colab.research.google.com/github/floydid/DiscreteMath/blob/main/ProjectTemplate.ipynb\" target=\"_parent\"><img src=\"https://colab.research.google.com/assets/colab-badge.svg\" alt=\"Open In Colab\"/></a>"
      ]
    },
    {
      "cell_type": "markdown",
      "metadata": {
        "id": "YCJaepmmfKrS"
      },
      "source": [
        "# Project Part # : CPSMA 3133 [Dr. Jacob's](https://github.com/nurfnick) Discrete Mathematics \n",
        "\n",
        "## Project Name: Sets and Functions\n",
        "\n",
        "### Student's Name and ID: Pawan Sharma (221121)\n",
        "\n",
        "\n"
      ]
    },
    {
      "cell_type": "markdown",
      "metadata": {
        "id": "Xs_Pvtua1Nnt"
      },
      "source": [
        "## 1 Sets"
      ]
    },
    {
      "cell_type": "markdown",
      "metadata": {
        "id": "BsnGlhpi7GFL"
      },
      "source": [
        "Defining sets"
      ]
    },
    {
      "cell_type": "code",
      "metadata": {
        "id": "67w2lrB92KHw"
      },
      "source": [
        "A = [1,3,5,7,9]\n",
        "B = [2,4,6,8,12]\n",
        "C = [3,1,5,7,2]\n",
        "U = [1,2,3,4,5,6,7,8,9,10,11,12,13,14,15,16,17,18]"
      ],
      "execution_count": 1,
      "outputs": []
    },
    {
      "cell_type": "markdown",
      "metadata": {
        "id": "_Cu1Px517rs1"
      },
      "source": [
        "Computing (AUB)"
      ]
    },
    {
      "cell_type": "code",
      "metadata": {
        "colab": {
          "base_uri": "https://localhost:8080/"
        },
        "id": "weM4xunp6N18",
        "outputId": "b57c0bee-800d-40c7-e3bd-bade3dc4e1d6"
      },
      "source": [
        "UnionAB = []\n",
        "\n",
        "for a in A:\n",
        "  UnionAB.append(a)\n",
        "for b in B:\n",
        "  UnionAB.append(b)\n",
        "set(UnionAB)\n"
      ],
      "execution_count": null,
      "outputs": [
        {
          "output_type": "execute_result",
          "data": {
            "text/plain": [
              "{1, 2, 3, 4, 5, 6, 7, 8, 9, 12}"
            ]
          },
          "metadata": {},
          "execution_count": 2
        }
      ]
    },
    {
      "cell_type": "markdown",
      "metadata": {
        "id": "y7LjtzHY7ypZ"
      },
      "source": [
        "(AUC)"
      ]
    },
    {
      "cell_type": "code",
      "metadata": {
        "id": "swiO0cO78ZIB",
        "colab": {
          "base_uri": "https://localhost:8080/"
        },
        "outputId": "e8450f98-4727-4e1f-bb3f-6cce00ee8518"
      },
      "source": [
        "UnionAC = []\n",
        "for a in A:\n",
        "  UnionAB.append(a)\n",
        "for c in C:\n",
        "  UnionAC.append(c)\n",
        "\n",
        "set(UnionAC)"
      ],
      "execution_count": null,
      "outputs": [
        {
          "output_type": "execute_result",
          "data": {
            "text/plain": [
              "{1, 2, 3, 5, 7}"
            ]
          },
          "metadata": {},
          "execution_count": 3
        }
      ]
    },
    {
      "cell_type": "markdown",
      "metadata": {
        "id": "vQffxPJT73TK"
      },
      "source": [
        "(BUC)"
      ]
    },
    {
      "cell_type": "code",
      "metadata": {
        "id": "TUc_DJ5b6LQq",
        "colab": {
          "base_uri": "https://localhost:8080/"
        },
        "outputId": "069bef47-4210-4e6a-a3d8-0a1fe9f235b5"
      },
      "source": [
        "UnionBC = []\n",
        "for b in B:\n",
        "  UnionBC.append(b)\n",
        "for c in C:\n",
        "  UnionBC.append(c)\n",
        "\n",
        "set(UnionBC)"
      ],
      "execution_count": null,
      "outputs": [
        {
          "output_type": "execute_result",
          "data": {
            "text/plain": [
              "{1, 2, 3, 4, 5, 6, 7, 8, 12}"
            ]
          },
          "metadata": {},
          "execution_count": 9
        }
      ]
    },
    {
      "cell_type": "markdown",
      "metadata": {
        "id": "KtQIkyZO76fh"
      },
      "source": [
        "(A∩B)"
      ]
    },
    {
      "cell_type": "code",
      "metadata": {
        "id": "kRmihVJ079XH",
        "colab": {
          "base_uri": "https://localhost:8080/"
        },
        "outputId": "fecd89f6-b271-4f91-e69e-4a43f6d1740a"
      },
      "source": [
        "IntersectionAB = []\n",
        "\n",
        "for a in A:\n",
        "  if a in B:\n",
        "    IntersectionAB.append(a)\n",
        "\n",
        "IntersectionAB\n"
      ],
      "execution_count": null,
      "outputs": [
        {
          "output_type": "execute_result",
          "data": {
            "text/plain": [
              "[]"
            ]
          },
          "metadata": {},
          "execution_count": 5
        }
      ]
    },
    {
      "cell_type": "markdown",
      "metadata": {
        "id": "WIEY9ips8FDw"
      },
      "source": [
        "(A∩C)"
      ]
    },
    {
      "cell_type": "code",
      "metadata": {
        "id": "V7UQ1zHh9ER0",
        "colab": {
          "base_uri": "https://localhost:8080/"
        },
        "outputId": "f7e35d12-fbdb-46d0-9591-a56585f6013f"
      },
      "source": [
        "IntersectionAC = []\n",
        "\n",
        "for a in A:\n",
        "  if a in C:\n",
        "    IntersectionAC.append(a)\n",
        "\n",
        "IntersectionAC"
      ],
      "execution_count": null,
      "outputs": [
        {
          "output_type": "execute_result",
          "data": {
            "text/plain": [
              "[1, 3, 5, 7]"
            ]
          },
          "metadata": {},
          "execution_count": 6
        }
      ]
    },
    {
      "cell_type": "markdown",
      "metadata": {
        "id": "Nxlcogn28Iqd"
      },
      "source": [
        "(B∩C)"
      ]
    },
    {
      "cell_type": "code",
      "metadata": {
        "id": "zKLTQdp_94EW",
        "colab": {
          "base_uri": "https://localhost:8080/"
        },
        "outputId": "e91771eb-f9d2-4529-beb1-7fa91ddde37b"
      },
      "source": [
        "IntersectionBC = []\n",
        "\n",
        "for b in B:\n",
        "  if b in C:\n",
        "    IntersectionBC.append(b)\n",
        "\n",
        "IntersectionBC"
      ],
      "execution_count": null,
      "outputs": [
        {
          "output_type": "execute_result",
          "data": {
            "text/plain": [
              "[2]"
            ]
          },
          "metadata": {},
          "execution_count": 4
        }
      ]
    },
    {
      "cell_type": "markdown",
      "metadata": {
        "id": "RZzLdPOK8Lb2"
      },
      "source": [
        "Complements of A, B, and C"
      ]
    },
    {
      "cell_type": "code",
      "metadata": {
        "id": "eN8rXHR8-DyO",
        "colab": {
          "base_uri": "https://localhost:8080/"
        },
        "outputId": "a97718be-0803-4324-a5da-aa3224c58236"
      },
      "source": [
        "ComplementA = []\n",
        "\n",
        "for u in U:\n",
        "  if u not in A:\n",
        "    ComplementA.append(u)\n",
        "ComplementA"
      ],
      "execution_count": null,
      "outputs": [
        {
          "output_type": "execute_result",
          "data": {
            "text/plain": [
              "[2, 4, 6, 8, 10, 11, 12, 13, 14, 15, 16, 17, 18]"
            ]
          },
          "metadata": {},
          "execution_count": 8
        }
      ]
    },
    {
      "cell_type": "code",
      "metadata": {
        "id": "Wk-jwp_n6pis",
        "colab": {
          "base_uri": "https://localhost:8080/"
        },
        "outputId": "6027ab4d-59cc-4584-958e-00219d5a388a"
      },
      "source": [
        "ComplementB = []\n",
        "\n",
        "for u in U:\n",
        "  if u not in B:\n",
        "    ComplementB.append(u)\n",
        "ComplementB"
      ],
      "execution_count": null,
      "outputs": [
        {
          "output_type": "execute_result",
          "data": {
            "text/plain": [
              "[1, 3, 5, 7, 9, 10, 11, 13, 14, 15, 16, 17, 18]"
            ]
          },
          "metadata": {},
          "execution_count": 10
        }
      ]
    },
    {
      "cell_type": "code",
      "metadata": {
        "id": "ES5Sc8Q86v32",
        "colab": {
          "base_uri": "https://localhost:8080/"
        },
        "outputId": "1d7a5b80-fca2-4836-81dc-334c2afaee09"
      },
      "source": [
        "ComplementC = []\n",
        "\n",
        "for u in U:\n",
        "  if u not in C:\n",
        "    ComplementC.append(u)\n",
        "ComplementC"
      ],
      "execution_count": null,
      "outputs": [
        {
          "output_type": "execute_result",
          "data": {
            "text/plain": [
              "[4, 6, 8, 9, 10, 11, 12, 13, 14, 15, 16, 17, 18]"
            ]
          },
          "metadata": {},
          "execution_count": 11
        }
      ]
    },
    {
      "cell_type": "markdown",
      "metadata": {
        "id": "LRB1N1D__m7i"
      },
      "source": [
        "Looking for subsets of A, B and C"
      ]
    },
    {
      "cell_type": "markdown",
      "metadata": {
        "id": "c3SGgVbAnCSQ"
      },
      "source": [
        "Set A, B and C are subsets of Universal sets. However, They are not subsets of each other."
      ]
    },
    {
      "cell_type": "markdown",
      "metadata": {
        "id": "N26Fa8gBaWa0"
      },
      "source": [
        "calculating the power set of A. This code prints all the elements in the power set and also total number of elements in power set."
      ]
    },
    {
      "cell_type": "code",
      "metadata": {
        "colab": {
          "base_uri": "https://localhost:8080/"
        },
        "id": "fmlX-imiZw4K",
        "outputId": "3f3a1c13-0e66-4229-8a42-17420c0f3b29"
      },
      "source": [
        "def get_subsets(A):\n",
        "  listrep = list(A)\n",
        "  subsets = []\n",
        "  for i in range(2**len(listrep)):\n",
        "    subset = []\n",
        "    for k in range(len(listrep)):            \n",
        "      if i & 1<<k:\n",
        "        subset.append(listrep[k])\n",
        "    subsets.append(subset)        \n",
        "  return subsets\n",
        "subsets = get_subsets(set(A))\n",
        "print(subsets)\n",
        "print (\"\\nNumber of elements in power set:\")\n",
        "print(len(subsets))\n"
      ],
      "execution_count": 8,
      "outputs": [
        {
          "output_type": "stream",
          "name": "stdout",
          "text": [
            "[[], [1], [3], [1, 3], [5], [1, 5], [3, 5], [1, 3, 5], [7], [1, 7], [3, 7], [1, 3, 7], [5, 7], [1, 5, 7], [3, 5, 7], [1, 3, 5, 7], [9], [1, 9], [3, 9], [1, 3, 9], [5, 9], [1, 5, 9], [3, 5, 9], [1, 3, 5, 9], [7, 9], [1, 7, 9], [3, 7, 9], [1, 3, 7, 9], [5, 7, 9], [1, 5, 7, 9], [3, 5, 7, 9], [1, 3, 5, 7, 9]]\n",
            "\n",
            "Number of elements in power set:\n",
            "32\n"
          ]
        }
      ]
    },
    {
      "cell_type": "markdown",
      "metadata": {
        "id": "_LB4cyTKDf0S"
      },
      "source": [
        "Defining a function\n",
        "$$\n",
        "f(x) = \\frac{\\sqrt{7}}{{5}}e^{\\frac{x^3}2} \n",
        "$$"
      ]
    },
    {
      "cell_type": "code",
      "metadata": {
        "id": "DlAFbVDSEu3h"
      },
      "source": [
        "import math\n",
        "import numpy as np\n",
        "\n",
        "def f(x):\n",
        "  return ((math.sqrt(7)/5))*np.e**((x**3)/2)"
      ],
      "execution_count": 35,
      "outputs": []
    },
    {
      "cell_type": "markdown",
      "metadata": {
        "id": "h_NbztFa-6ub"
      },
      "source": [
        "Inserting values of x to check if the function gives the right answers. "
      ]
    },
    {
      "cell_type": "code",
      "metadata": {
        "id": "09s2h-tD9f9A",
        "colab": {
          "base_uri": "https://localhost:8080/"
        },
        "outputId": "314b5398-5ab3-49e5-f9ec-f7042034a3f4"
      },
      "source": [
        "f(1)"
      ],
      "execution_count": 36,
      "outputs": [
        {
          "output_type": "execute_result",
          "data": {
            "text/plain": [
              "0.8724212927069884"
            ]
          },
          "metadata": {},
          "execution_count": 36
        }
      ]
    },
    {
      "cell_type": "code",
      "metadata": {
        "id": "1ALpie-h-Hyg",
        "colab": {
          "base_uri": "https://localhost:8080/"
        },
        "outputId": "0cdb0257-7fd2-4426-c1e2-5e4caa20c9d6"
      },
      "source": [
        "f(2)"
      ],
      "execution_count": 12,
      "outputs": [
        {
          "output_type": "execute_result",
          "data": {
            "text/plain": [
              "28.890625406378515"
            ]
          },
          "metadata": {},
          "execution_count": 12
        }
      ]
    },
    {
      "cell_type": "markdown",
      "metadata": {
        "id": "_7RoPTU_hXG1"
      },
      "source": [
        "## 2 Functions"
      ]
    },
    {
      "cell_type": "code",
      "metadata": {
        "id": "jEsrpb3u_X34",
        "colab": {
          "base_uri": "https://localhost:8080/",
          "height": 284
        },
        "outputId": "07c3a993-ccd4-45bb-e318-15e8400c97ea"
      },
      "source": [
        "import matplotlib.pyplot as plt\n",
        "\n",
        "x = np.arange(-2,2,.25)\n",
        "plt.plot(x,f(x))"
      ],
      "execution_count": 17,
      "outputs": [
        {
          "output_type": "execute_result",
          "data": {
            "text/plain": [
              "[<matplotlib.lines.Line2D at 0x7fd36243f090>]"
            ]
          },
          "metadata": {},
          "execution_count": 17
        },
        {
          "output_type": "display_data",
          "data": {
            "image/png": "[encoded data removed]",
            "text/plain": [
              "<Figure size 432x288 with 1 Axes>"
            ]
          },
          "metadata": {
            "needs_background": "light"
          }
        }
      ]
    },
    {
      "cell_type": "markdown",
      "metadata": {
        "id": "JqXfuIQbc_K9"
      },
      "source": [
        "To find the inverse of a function, we have to swap x and y. \n",
        "\n",
        "so our function looks like this\n",
        "\n",
        "$$\n",
        "x = \\frac{\\sqrt{7}}{{5}}e^{\\frac{y^3}2} \n",
        "$$\n",
        "\n",
        "$$\n",
        "y = {\\ln(\\frac{25x^2}7)}^{1/3}\n",
        "$$"
      ]
    },
    {
      "cell_type": "markdown",
      "metadata": {
        "id": "yFaVEjl6dkec"
      },
      "source": [
        "Defining inverse function:\n",
        "\n"
      ]
    },
    {
      "cell_type": "code",
      "metadata": {
        "id": "P9TiYLYWdo-l"
      },
      "source": [
        "import math\n",
        "import numpy as np\n",
        "\n",
        "def inverse(x):\n",
        "  return ((np.log((25*x**2)/7))**(1/3))"
      ],
      "execution_count": 39,
      "outputs": []
    },
    {
      "cell_type": "markdown",
      "metadata": {
        "id": "ukobXeJPnyDw"
      },
      "source": [
        "We observe that value we inserted on f(x) is reversed on our inverse function. Hence our inverse function is correct."
      ]
    },
    {
      "cell_type": "code",
      "metadata": {
        "id": "DhEp6nTleXdU",
        "outputId": "42fa9a5f-1d18-40ac-b711-b7d833cb87a7",
        "colab": {
          "base_uri": "https://localhost:8080/"
        }
      },
      "source": [
        "inverse(0.8724212927069884)"
      ],
      "execution_count": 42,
      "outputs": [
        {
          "output_type": "execute_result",
          "data": {
            "text/plain": [
              "1.0"
            ]
          },
          "metadata": {},
          "execution_count": 42
        }
      ]
    },
    {
      "cell_type": "markdown",
      "metadata": {
        "id": "S0BfKoy5oGkr"
      },
      "source": [
        "Graph of our inverse function\n"
      ]
    },
    {
      "cell_type": "code",
      "metadata": {
        "id": "RKl4Kcr8oMEw",
        "outputId": "9ba82359-be39-44a1-9847-3968703d2ca6",
        "colab": {
          "base_uri": "https://localhost:8080/",
          "height": 350
        }
      },
      "source": [
        "import matplotlib.pyplot as plt\n",
        "\n",
        "x = np.arange(-2,2,.25)\n",
        "plt.plot(x,inverse(x))"
      ],
      "execution_count": 43,
      "outputs": [
        {
          "output_type": "stream",
          "name": "stderr",
          "text": [
            "/usr/local/lib/python3.7/dist-packages/ipykernel_launcher.py:5: RuntimeWarning: divide by zero encountered in log\n",
            "  \"\"\"\n",
            "/usr/local/lib/python3.7/dist-packages/ipykernel_launcher.py:5: RuntimeWarning: invalid value encountered in power\n",
            "  \"\"\"\n"
          ]
        },
        {
          "output_type": "execute_result",
          "data": {
            "text/plain": [
              "[<matplotlib.lines.Line2D at 0x7fd362168650>]"
            ]
          },
          "metadata": {},
          "execution_count": 43
        },
        {
          "output_type": "display_data",
          "data": {
            "image/png": "[encoded data removed]",
            "text/plain": [
              "<Figure size 432x288 with 1 Axes>"
            ]
          },
          "metadata": {
            "needs_background": "light"
          }
        }
      ]
    }
  ]
}