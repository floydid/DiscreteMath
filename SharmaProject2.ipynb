{
  "nbformat": 4,
  "nbformat_minor": 0,
  "metadata": {
    "colab": {
      "name": "SharmaProject2.ipynb",
      "provenance": [],
      "collapsed_sections": [],
      "include_colab_link": true
    },
    "kernelspec": {
      "name": "python3",
      "display_name": "Python 3"
    }
  },
  "cells": [
    {
      "cell_type": "markdown",
      "metadata": {
        "id": "view-in-github",
        "colab_type": "text"
      },
      "source": [
        "<a href=\"https://colab.research.google.com/github/floydid/DiscreteMath/blob/main/SharmaProject2.ipynb\" target=\"_parent\"><img src=\"https://colab.research.google.com/assets/colab-badge.svg\" alt=\"Open In Colab\"/></a>"
      ]
    },
    {
      "cell_type": "markdown",
      "metadata": {
        "id": "YCJaepmmfKrS"
      },
      "source": [
        "# Project Part # : CPSMA 3133 [Dr. Jacob's](https://github.com/nurfnick) Discrete Mathematics \n",
        "\n",
        "## Probabilities\n",
        "\n",
        "### Pawan Sharma (221121)\n",
        "\n",
        "\n"
      ]
    },
    {
      "cell_type": "markdown",
      "metadata": {
        "id": "Xs_Pvtua1Nnt"
      },
      "source": [
        "## 1 Probability"
      ]
    },
    {
      "cell_type": "markdown",
      "metadata": {
        "id": "2z6U1aB_fQDM"
      },
      "source": [
        "I am picking up 3 marvel cinematic movies out of 25. Probaility of viewer watching movie that has Iron Man, I is $\\frac{12}{25}$, Captain America, C is $\\frac9{25}$ and SpiderMan, S is $\\frac4{25}$."
      ]
    },
    {
      "cell_type": "markdown",
      "metadata": {
        "id": "SbLCJYjYbMZR"
      },
      "source": [
        "Total probability should be 1."
      ]
    },
    {
      "cell_type": "code",
      "metadata": {
        "id": "rU_BgC_kfH7g",
        "colab": {
          "base_uri": "https://localhost:8080/"
        },
        "outputId": "f37c04f4-749b-419e-a7aa-9b21b64b81ed"
      },
      "source": [
        "p = [12/25, 9/25, 4/25]\n",
        "\n",
        "sum(p) \n"
      ],
      "execution_count": null,
      "outputs": [
        {
          "output_type": "execute_result",
          "data": {
            "text/plain": [
              "1.0"
            ]
          },
          "metadata": {},
          "execution_count": 2
        }
      ]
    },
    {
      "cell_type": "markdown",
      "metadata": {
        "id": "3aI8rcOkbqBp"
      },
      "source": [
        "For compound event, lets say, a viewer watches Spiderman movie $\\frac4{25}$.Viewer is allowed to watch one more movie. In this case the compound event be M."
      ]
    },
    {
      "cell_type": "code",
      "metadata": {
        "colab": {
          "base_uri": "https://localhost:8080/"
        },
        "id": "eseEUPKKeh9N",
        "outputId": "beb75645-1039-4a78-853a-edb068eb2449"
      },
      "source": [
        "\n",
        "ProbabilityM = 0\n",
        "\n",
        "for i in [0,2]:\n",
        "  ProbabilityM = ProbabilityM + p[i]\n",
        "\n",
        "ProbabilityM"
      ],
      "execution_count": null,
      "outputs": [
        {
          "output_type": "execute_result",
          "data": {
            "text/plain": [
              "0.64"
            ]
          },
          "metadata": {},
          "execution_count": 7
        }
      ]
    },
    {
      "cell_type": "markdown",
      "metadata": {
        "id": "gprUvACRdFmL"
      },
      "source": [
        "To explore Union and Intersection of compund events, lets say the viewer watched another movie M and movie actually has Spiderman in the movie, S."
      ]
    },
    {
      "cell_type": "code",
      "metadata": {
        "id": "nIgZPwFrdw65"
      },
      "source": [
        "ProbabilityS = 4/25"
      ],
      "execution_count": null,
      "outputs": []
    },
    {
      "cell_type": "markdown",
      "metadata": {
        "id": "DGXecrKKeXpX"
      },
      "source": [
        "To find intersection between watching a movie M and movie containing Spiderman S, $M\\cap S$ and union, $M\\cup S$."
      ]
    },
    {
      "cell_type": "code",
      "metadata": {
        "id": "_fWVdpn5enCu",
        "colab": {
          "base_uri": "https://localhost:8080/"
        },
        "outputId": "8286009f-e3de-4495-aa34-7b2f9791ef3f"
      },
      "source": [
        "MintersectionS = ProbabilityM - ProbabilityS \n",
        "# Viewer has to watch a movie and Movie must have Spiderman in it.\n",
        "\n",
        "MunionS = ProbabilityM + ProbabilityS - MintersectionS\n",
        "MunionS"
      ],
      "execution_count": null,
      "outputs": [
        {
          "output_type": "execute_result",
          "data": {
            "text/plain": [
              "0.32000000000000006"
            ]
          },
          "metadata": {},
          "execution_count": 11
        }
      ]
    },
    {
      "cell_type": "markdown",
      "metadata": {
        "id": "-IArMfWVfZaC"
      },
      "source": [
        "Probaility of movie containing Spiderman, if viewer watches another movie.\n",
        "$$\n",
        "P(S|M) = \\frac{P(S\\cup M)}{P(M)}\n",
        "$$"
      ]
    },
    {
      "cell_type": "code",
      "metadata": {
        "id": "D4PQP8yWfreL",
        "colab": {
          "base_uri": "https://localhost:8080/"
        },
        "outputId": "310a87b3-918f-43de-8b97-ae7bf6d1f7f9"
      },
      "source": [
        "4/25/ProbabilityM"
      ],
      "execution_count": null,
      "outputs": [
        {
          "output_type": "execute_result",
          "data": {
            "text/plain": [
              "0.25"
            ]
          },
          "metadata": {},
          "execution_count": 12
        }
      ]
    },
    {
      "cell_type": "markdown",
      "metadata": {
        "id": "DaISpSpqgH1j"
      },
      "source": [
        "Probability of watching another movie given the viewer picked Spiderman movie. Now to use Bayes's law\n",
        "$$\n",
        "P(S|M) = \\frac{P(S)P(M|S)}{P(M)}\n",
        "$$"
      ]
    },
    {
      "cell_type": "code",
      "metadata": {
        "id": "qJCeCyR1gawn",
        "colab": {
          "base_uri": "https://localhost:8080/"
        },
        "outputId": "a5cc0f09-8ec6-4b52-8ad4-59f0d2f7887c"
      },
      "source": [
        "0.25 == (4/25 *1)/ProbabilityM"
      ],
      "execution_count": null,
      "outputs": [
        {
          "output_type": "execute_result",
          "data": {
            "text/plain": [
              "True"
            ]
          },
          "metadata": {},
          "execution_count": 13
        }
      ]
    },
    {
      "cell_type": "markdown",
      "metadata": {
        "id": "9Q4Gavlvgkks"
      },
      "source": [
        "For the complement of a event is simply 1 - the event. probability of picking Spiderman movie if the viewer watches another movie P(S|M). Lets say the complement be C."
      ]
    },
    {
      "cell_type": "code",
      "metadata": {
        "id": "MSXi7tfCgxnJ",
        "colab": {
          "base_uri": "https://localhost:8080/"
        },
        "outputId": "c6e58fbf-b369-4256-a857-b56e6a24c43b"
      },
      "source": [
        "C = 1.0 - 0.25\n",
        "C"
      ],
      "execution_count": null,
      "outputs": [
        {
          "output_type": "execute_result",
          "data": {
            "text/plain": [
              "0.75"
            ]
          },
          "metadata": {},
          "execution_count": 14
        }
      ]
    },
    {
      "cell_type": "markdown",
      "metadata": {
        "id": "KytC48_Zg3L0"
      },
      "source": [
        "Given simulate a sample occurance of my sample space 10 times."
      ]
    },
    {
      "cell_type": "code",
      "metadata": {
        "id": "-fDsrSUng39I"
      },
      "source": [
        "p25 = [25*i for i in p]\n",
        "p = [12/25, 9/25, 4/25]"
      ],
      "execution_count": null,
      "outputs": []
    },
    {
      "cell_type": "code",
      "metadata": {
        "id": "wuo2knIDhAZ2",
        "colab": {
          "base_uri": "https://localhost:8080/"
        },
        "outputId": "e7fc385a-57df-481c-cd5c-b4eb3b63b881"
      },
      "source": [
        "p25"
      ],
      "execution_count": null,
      "outputs": [
        {
          "output_type": "execute_result",
          "data": {
            "text/plain": [
              "[12.0, 9.0, 4.0]"
            ]
          },
          "metadata": {},
          "execution_count": 16
        }
      ]
    },
    {
      "cell_type": "markdown",
      "metadata": {
        "id": "5isUnUzBhWLa"
      },
      "source": [
        "k =10 is given that i have to simulate the sample space 10 times"
      ]
    },
    {
      "cell_type": "code",
      "metadata": {
        "id": "CRtrL8YlhJs_",
        "colab": {
          "base_uri": "https://localhost:8080/"
        },
        "outputId": "373472c7-896b-415c-8e7f-1f27ca7136bc"
      },
      "source": [
        "from random import choices\n",
        "\n",
        "choices(['Iron Man','Captain America','Spiderman'], p25, k=10)"
      ],
      "execution_count": null,
      "outputs": [
        {
          "output_type": "execute_result",
          "data": {
            "text/plain": [
              "['Iron Man',\n",
              " 'Iron Man',\n",
              " 'Iron Man',\n",
              " 'Iron Man',\n",
              " 'Iron Man',\n",
              " 'Spiderman',\n",
              " 'Iron Man',\n",
              " 'Iron Man',\n",
              " 'Captain America',\n",
              " 'Iron Man']"
            ]
          },
          "metadata": {},
          "execution_count": 20
        }
      ]
    },
    {
      "cell_type": "markdown",
      "metadata": {
        "id": "lkDV5FLVhlev"
      },
      "source": [
        "Simulation generated was not expected. Captain America was not repeated enough times. To my surprise,random was too random i guess!"
      ]
    },
    {
      "cell_type": "markdown",
      "metadata": {
        "id": "_7RoPTU_hXG1"
      },
      "source": [
        "## 2 Counting"
      ]
    },
    {
      "cell_type": "markdown",
      "metadata": {
        "id": "MMXFYCZ6hajg"
      },
      "source": [
        "There are there movies in my sequence of 10"
      ]
    },
    {
      "cell_type": "code",
      "metadata": {
        "id": "5U5T3Fld5X0S",
        "colab": {
          "base_uri": "https://localhost:8080/"
        },
        "outputId": "1d678d7a-2f2e-40d5-8a61-7ed21f12154c"
      },
      "source": [
        "3**10"
      ],
      "execution_count": null,
      "outputs": [
        {
          "output_type": "execute_result",
          "data": {
            "text/plain": [
              "59049"
            ]
          },
          "metadata": {},
          "execution_count": 21
        }
      ]
    },
    {
      "cell_type": "markdown",
      "metadata": {
        "id": "A3TfjlSqiKHZ"
      },
      "source": [
        "If there are $n$ objects and $k$ slots but order does not matter, the number of ways to do this is\n",
        "\n",
        "or in simple terms\n",
        "\n",
        "$$\n",
        "\\binom{n+k-1}{k-1} = \\binom{n+k-1}{n}\n",
        "$$\n",
        "\n",
        "\n",
        "$$\n",
        "\\binom{n+k-1}{k-1}=\\frac{(n+k-1)!}{{n!}(k-1)!}\n",
        "$$\n",
        "\n",
        "here n = 10 and k =3"
      ]
    },
    {
      "cell_type": "code",
      "metadata": {
        "id": "jW1LTBksiOBz",
        "colab": {
          "base_uri": "https://localhost:8080/"
        },
        "outputId": "706f0948-c547-4c2d-c9ed-fcbdb9ebd601"
      },
      "source": [
        "import math\n",
        "\n",
        "math.factorial(10+3-1)/(math.factorial(10)*math.factorial(3-1))"
      ],
      "execution_count": null,
      "outputs": [
        {
          "output_type": "execute_result",
          "data": {
            "text/plain": [
              "66.0"
            ]
          },
          "metadata": {},
          "execution_count": 22
        }
      ]
    },
    {
      "cell_type": "markdown",
      "metadata": {
        "id": "q8pjXqn-iUu2"
      },
      "source": [
        "If were only allowed to choose three movies and multiple movies were not allowed to choose."
      ]
    },
    {
      "cell_type": "code",
      "metadata": {
        "id": "Fe7tjgN1ieS5",
        "colab": {
          "base_uri": "https://localhost:8080/"
        },
        "outputId": "9ba01489-3c31-4439-c906-8b4b4933a75a"
      },
      "source": [
        "math.factorial(3)"
      ],
      "execution_count": null,
      "outputs": [
        {
          "output_type": "execute_result",
          "data": {
            "text/plain": [
              "6"
            ]
          },
          "metadata": {},
          "execution_count": 23
        }
      ]
    },
    {
      "cell_type": "code",
      "metadata": {
        "id": "dQ1-LVCuilHt",
        "colab": {
          "base_uri": "https://localhost:8080/"
        },
        "outputId": "cd9512d1-0afe-4f77-da34-7b9b92d614b7"
      },
      "source": [
        "math.factorial(3)/(math.factorial(3-3)*math.factorial(3))"
      ],
      "execution_count": null,
      "outputs": [
        {
          "output_type": "execute_result",
          "data": {
            "text/plain": [
              "1.0"
            ]
          },
          "metadata": {},
          "execution_count": 24
        }
      ]
    },
    {
      "cell_type": "markdown",
      "metadata": {
        "id": "Po-uC734ioFL"
      },
      "source": [
        "To find the coefficent of 5th order of $$(x+9)^9$$ \n",
        "\n",
        "Acccording to the Binomial Theorem \n",
        "\n",
        "\n",
        "$$\n",
        "\\left(x+2\\right)^9 = \\sum_{k = 0}^9\\binom 9 k x^{(9-k)}2^k\n",
        "$$\n",
        "\n",
        "Now to figure out coefficent of x when $k=5$\n",
        "\n",
        "$$\n",
        "\\left(x+2\\right)^9 = \\sum_{k = 5}^9\\binom 9 5 x^{(9-5)}2^5\n",
        "$$"
      ]
    },
    {
      "cell_type": "code",
      "metadata": {
        "id": "Z_94QBHSizK0",
        "colab": {
          "base_uri": "https://localhost:8080/"
        },
        "outputId": "313adecd-0d3c-43e2-8386-ff42bfefae3d"
      },
      "source": [
        "FifthOrder = math.factorial(9)/(math.factorial(9-5)*math.factorial(5))\n",
        "Expansion = pow(5,2)*FifthOrder\n",
        "Expansion"
      ],
      "execution_count": null,
      "outputs": [
        {
          "output_type": "execute_result",
          "data": {
            "text/plain": [
              "3150.0"
            ]
          },
          "metadata": {},
          "execution_count": 26
        }
      ]
    }
  ]
}