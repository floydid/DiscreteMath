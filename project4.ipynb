{
  "nbformat": 4,
  "nbformat_minor": 0,
  "metadata": {
    "colab": {
      "name": "project4.ipynb",
      "provenance": [],
      "include_colab_link": true
    },
    "kernelspec": {
      "name": "python3",
      "display_name": "Python 3"
    }
  },
  "cells": [
    {
      "cell_type": "markdown",
      "metadata": {
        "id": "view-in-github",
        "colab_type": "text"
      },
      "source": [
        "<a href=\"https://colab.research.google.com/github/floydid/DiscreteMath/blob/main/project4.ipynb\" target=\"_parent\"><img src=\"https://colab.research.google.com/assets/colab-badge.svg\" alt=\"Open In Colab\"/></a>"
      ]
    },
    {
      "cell_type": "markdown",
      "metadata": {
        "id": "YCJaepmmfKrS"
      },
      "source": [
        "# Project Part # : CPSMA 3133 [Dr. Jacob's](https://github.com/nurfnick) Discrete Mathematics \n",
        "\n",
        "## Logics and Proofs\n",
        "\n",
        "### Student's Name and ID: Pawan Sharma (221121)\n",
        "\n",
        "\n"
      ]
    },
    {
      "cell_type": "markdown",
      "source": [
        ""
      ],
      "metadata": {
        "id": "x3jtTuU8JbkO"
      }
    },
    {
      "cell_type": "markdown",
      "metadata": {
        "id": "Xs_Pvtua1Nnt"
      },
      "source": [
        "## 1 Logic"
      ]
    },
    {
      "cell_type": "markdown",
      "metadata": {
        "id": "2z6U1aB_fQDM"
      },
      "source": [
        "We are requied to have three propositions to create a truth table. I will be working on my car today.\n",
        "\n",
        "changeOIL(p)\n",
        "installLED(q)\n",
        "changeBrakePad(r)"
      ]
    },
    {
      "cell_type": "code",
      "metadata": {
        "id": "rU_BgC_kfH7g"
      },
      "source": [
        "changeOIL = True\n",
        "installLED = True\n",
        "changeBrakePad = False"
      ],
      "execution_count": null,
      "outputs": []
    },
    {
      "cell_type": "markdown",
      "source": [
        "We have to create a truth table"
      ],
      "metadata": {
        "id": "zXUB4yO0i_9q"
      }
    },
    {
      "cell_type": "markdown",
      "source": [
        "we need \n",
        "$$\\lnot q$$"
      ],
      "metadata": {
        "id": "Z1iop8cIjK74"
      }
    },
    {
      "cell_type": "code",
      "source": [
        "not(installLED)"
      ],
      "metadata": {
        "id": "dcwQB5_pjPLe",
        "outputId": "c92520d0-4b91-42a2-cbee-97223ffae180",
        "colab": {
          "base_uri": "https://localhost:8080/"
        }
      },
      "execution_count": null,
      "outputs": [
        {
          "output_type": "execute_result",
          "data": {
            "text/plain": [
              "False"
            ]
          },
          "metadata": {},
          "execution_count": 10
        }
      ]
    },
    {
      "cell_type": "markdown",
      "source": [
        "we have to find  r ∧ p"
      ],
      "metadata": {
        "id": "kteKEZWjjX0R"
      }
    },
    {
      "cell_type": "code",
      "source": [
        "changeBrakePad and changeOIL"
      ],
      "metadata": {
        "id": "Gt2LNGnUjbfV",
        "outputId": "da3fef50-3bee-40dd-d0c2-265d1dbadb40",
        "colab": {
          "base_uri": "https://localhost:8080/"
        }
      },
      "execution_count": null,
      "outputs": [
        {
          "output_type": "execute_result",
          "data": {
            "text/plain": [
              "False"
            ]
          },
          "metadata": {},
          "execution_count": 11
        }
      ]
    },
    {
      "cell_type": "code",
      "source": [
        "to get r ∨ ¬q"
      ],
      "metadata": {
        "id": "oVcch9DIj3i0"
      },
      "execution_count": null,
      "outputs": []
    },
    {
      "cell_type": "code",
      "source": [
        "changeBrakePad or not(installLED)"
      ],
      "metadata": {
        "id": "k0jz5LBaj69-",
        "outputId": "46c09e7c-b730-47d6-b641-e53388c94481",
        "colab": {
          "base_uri": "https://localhost:8080/"
        }
      },
      "execution_count": null,
      "outputs": [
        {
          "output_type": "execute_result",
          "data": {
            "text/plain": [
              "False"
            ]
          },
          "metadata": {},
          "execution_count": 13
        }
      ]
    },
    {
      "cell_type": "markdown",
      "source": [
        "to get r ⇒ p"
      ],
      "metadata": {
        "id": "gKXlsxUPkA0y"
      }
    },
    {
      "cell_type": "markdown",
      "source": [
        "we could do ¬r ∨ p"
      ],
      "metadata": {
        "id": "1HbxhZUVkIZ9"
      }
    },
    {
      "cell_type": "code",
      "source": [
        "def implies (r , p):\n",
        "  return not(r) or p\n",
        "\n",
        "implies(changeBrakePad, changeOIL)"
      ],
      "metadata": {
        "id": "ZmZQ_31Dkdgc",
        "outputId": "2ec43055-2949-4893-d267-75fa444e0d88",
        "colab": {
          "base_uri": "https://localhost:8080/"
        }
      },
      "execution_count": null,
      "outputs": [
        {
          "output_type": "execute_result",
          "data": {
            "text/plain": [
              "True"
            ]
          },
          "metadata": {},
          "execution_count": 18
        }
      ]
    },
    {
      "cell_type": "markdown",
      "metadata": {
        "id": "Iggon6VK1Vxo"
      },
      "source": [
        "We could install a truth table generator package"
      ]
    },
    {
      "cell_type": "code",
      "source": [
        "pip install truth-table-generator"
      ],
      "metadata": {
        "id": "tCp5-ciTq2W-",
        "outputId": "9d0656a4-b177-47d8-b904-df75a25b579d",
        "colab": {
          "base_uri": "https://localhost:8080/"
        }
      },
      "execution_count": null,
      "outputs": [
        {
          "output_type": "stream",
          "name": "stdout",
          "text": [
            "Requirement already satisfied: truth-table-generator in /usr/local/lib/python3.7/dist-packages (1.1.2)\n",
            "Requirement already satisfied: jinja2 in /usr/local/lib/python3.7/dist-packages (from truth-table-generator) (2.11.3)\n",
            "Requirement already satisfied: pyparsing in /usr/local/lib/python3.7/dist-packages (from truth-table-generator) (3.0.6)\n",
            "Requirement already satisfied: PTable in /usr/local/lib/python3.7/dist-packages (from truth-table-generator) (0.9.2)\n",
            "Requirement already satisfied: numpy in /usr/local/lib/python3.7/dist-packages (from truth-table-generator) (1.19.5)\n",
            "Requirement already satisfied: tabulate in /usr/local/lib/python3.7/dist-packages (from truth-table-generator) (0.8.9)\n",
            "Requirement already satisfied: pandas in /usr/local/lib/python3.7/dist-packages (from truth-table-generator) (1.1.5)\n",
            "Requirement already satisfied: MarkupSafe>=0.23 in /usr/local/lib/python3.7/dist-packages (from jinja2->truth-table-generator) (2.0.1)\n",
            "Requirement already satisfied: pytz>=2017.2 in /usr/local/lib/python3.7/dist-packages (from pandas->truth-table-generator) (2018.9)\n",
            "Requirement already satisfied: python-dateutil>=2.7.3 in /usr/local/lib/python3.7/dist-packages (from pandas->truth-table-generator) (2.8.2)\n",
            "Requirement already satisfied: six>=1.5 in /usr/local/lib/python3.7/dist-packages (from python-dateutil>=2.7.3->pandas->truth-table-generator) (1.15.0)\n"
          ]
        }
      ]
    },
    {
      "cell_type": "code",
      "source": [
        "import ttg"
      ],
      "metadata": {
        "id": "r3024-6Sq6Yc"
      },
      "execution_count": null,
      "outputs": []
    },
    {
      "cell_type": "markdown",
      "source": [
        " we imported ttg package to get our truth table"
      ],
      "metadata": {
        "id": "58le1_wbq90M"
      }
    },
    {
      "cell_type": "code",
      "source": [
        "print(ttg.Truths(['p', 'q', 'r'], ['~q', 'r and p', 'r or ~q', 'r => p'], ints = False))"
      ],
      "metadata": {
        "id": "iRV7NKvMrCOw",
        "outputId": "6e9057f9-e86e-4931-f7e8-3422591a7923",
        "colab": {
          "base_uri": "https://localhost:8080/"
        }
      },
      "execution_count": null,
      "outputs": [
        {
          "output_type": "stream",
          "name": "stdout",
          "text": [
            "+-------+-------+-------+-------+-----------+-----------+----------+\n",
            "|   p   |   q   |   r   |  ~q   |  r and p  |  r or ~q  |  r => p  |\n",
            "|-------+-------+-------+-------+-----------+-----------+----------|\n",
            "| True  | True  | True  | False |   True    |   True    |   True   |\n",
            "| True  | True  | False | False |   False   |   False   |   True   |\n",
            "| True  | False | True  | True  |   True    |   True    |   True   |\n",
            "| True  | False | False | True  |   False   |   True    |   True   |\n",
            "| False | True  | True  | False |   False   |   True    |  False   |\n",
            "| False | True  | False | False |   False   |   False   |   True   |\n",
            "| False | False | True  | True  |   False   |   True    |  False   |\n",
            "| False | False | False | True  |   False   |   True    |   True   |\n",
            "+-------+-------+-------+-------+-----------+-----------+----------+\n"
          ]
        }
      ]
    },
    {
      "cell_type": "markdown",
      "source": [
        "Then given ¬ (X ⊕ Y ) ⇒ (Y ∨ Z)\n",
        "\n",
        "We have to create a truth table"
      ],
      "metadata": {
        "id": "QM3z2NtlraO-"
      }
    },
    {
      "cell_type": "code",
      "source": [
        "hi import ttg\n",
        "\n",
        "print(ttg.Truths(['X', 'Y', 'Z'], ['X xor Y', '~(X xor Y)', 'Y or Z', '(~(X xor Y)) => (Y or Z)'], ints = False))"
      ],
      "metadata": {
        "id": "o7OTA2s9sc9_",
        "outputId": "1a101fac-ec8a-4523-b5e9-f4deb9114dfc",
        "colab": {
          "base_uri": "https://localhost:8080/"
        }
      },
      "execution_count": null,
      "outputs": [
        {
          "output_type": "stream",
          "name": "stdout",
          "text": [
            "+-------+-------+-------+-----------+--------------+----------+----------------------------+\n",
            "|   X   |   Y   |   Z   |  X xor Y  |  ~(X xor Y)  |  Y or Z  |  (~(X xor Y)) => (Y or Z)  |\n",
            "|-------+-------+-------+-----------+--------------+----------+----------------------------|\n",
            "| True  | True  | True  |   False   |     True     |   True   |            True            |\n",
            "| True  | True  | False |   False   |     True     |   True   |            True            |\n",
            "| True  | False | True  |   True    |    False     |   True   |            True            |\n",
            "| True  | False | False |   True    |    False     |  False   |            True            |\n",
            "| False | True  | True  |   True    |    False     |   True   |            True            |\n",
            "| False | True  | False |   True    |    False     |   True   |            True            |\n",
            "| False | False | True  |   False   |     True     |   True   |            True            |\n",
            "| False | False | False |   False   |     True     |  False   |           False            |\n",
            "+-------+-------+-------+-----------+--------------+----------+----------------------------+\n"
          ]
        }
      ]
    },
    {
      "cell_type": "markdown",
      "metadata": {
        "id": "_7RoPTU_hXG1"
      },
      "source": [
        "## 2 Proof"
      ]
    },
    {
      "cell_type": "markdown",
      "metadata": {
        "id": "MMXFYCZ6hajg"
      },
      "source": [
        "A linear equation i chose in the form\n",
        "$$y=mx+b$$\n",
        "is y = 4x + 3\n"
      ]
    },
    {
      "cell_type": "code",
      "metadata": {
        "id": "5U5T3Fld5X0S",
        "outputId": "b75f5a6b-f965-491c-c953-fe16a94d1da5",
        "colab": {
          "base_uri": "https://localhost:8080/",
          "height": 281
        }
      },
      "source": [
        "import matplotlib.pyplot as plt\n",
        "import numpy as np\n",
        "\n",
        "x = np.linspace(-5,5,50)\n",
        "y = 4*x +3\n",
        "plt.plot(x,y)\n",
        "plt.title('Graph y=2x+1')\n",
        "plt.grid()\n",
        "plt.show()"
      ],
      "execution_count": null,
      "outputs": [
        {
          "output_type": "display_data",
          "data": {
            "image/png": "[encoded data removed]",
            "text/plain": [
              "<Figure size 432x288 with 1 Axes>"
            ]
          },
          "metadata": {
            "needs_background": "light"
          }
        }
      ]
    },
    {
      "cell_type": "markdown",
      "source": [
        "to find the proof\n",
        "lets find the y-intercept form of my eqaution\n",
        "\n",
        "y = 4x+3, lets assume x=0.\n",
        "\n",
        "y = 4*0 + 3\n",
        "\n",
        "y = 3\n",
        "\n",
        "thus (0,3) is the y-intercept form of y=4x+3"
      ],
      "metadata": {
        "id": "z2BWf2yb3Qgf"
      }
    },
    {
      "cell_type": "code",
      "source": [
        "3 == 4*0 +3"
      ],
      "metadata": {
        "id": "hLAEY21A_8f6",
        "outputId": "b4214fd7-1203-41ed-d82c-f4de6ca37e87",
        "colab": {
          "base_uri": "https://localhost:8080/"
        }
      },
      "execution_count": null,
      "outputs": [
        {
          "output_type": "execute_result",
          "data": {
            "text/plain": [
              "True"
            ]
          },
          "metadata": {},
          "execution_count": 90
        }
      ]
    },
    {
      "cell_type": "markdown",
      "source": [
        "This shows our proof"
      ],
      "metadata": {
        "id": "IE0vtJ3yAL9t"
      }
    }
  ]
}